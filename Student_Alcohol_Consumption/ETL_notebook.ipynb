{
 "cells": [
  {
   "cell_type": "markdown",
   "metadata": {},
   "source": [
    "# Set up"
   ]
  },
  {
   "cell_type": "code",
   "execution_count": 1,
   "metadata": {},
   "outputs": [],
   "source": [
    "# Import Dependencies\n",
    "import pandas as pd\n",
    "from sqlalchemy import create_engine"
   ]
  },
  {
   "cell_type": "code",
   "execution_count": 2,
   "metadata": {},
   "outputs": [],
   "source": [
    "# Read in CSV files\n",
    "port_file = \"../Resources/student-por.csv\"\n",
    "port_db = pd.read_csv(port_file)\n",
    "\n",
    "math_file = \"../Resources/student-mat.csv\"\n",
    "math_db = pd.read_csv(math_file)"
   ]
  },
  {
   "cell_type": "markdown",
   "metadata": {},
   "source": [
    "# Math Students"
   ]
  },
  {
   "cell_type": "code",
   "execution_count": 3,
   "metadata": {},
   "outputs": [],
   "source": [
    "# Find specific columns that relate to how alcohol consumption affects study performance in math students\n",
    "math_study_habits_columns = ['school','sex', 'age','studytime','failures','schoolsup','freetime','goout','Dalc','Walc','absences']\n",
    "\n",
    "# Copy columns needed to insert into new dataframe\n",
    "math_study_habits_df = math_db[math_study_habits_columns].copy()\n",
    "\n",
    "# Rename columns\n",
    "math_study_habits_df = math_study_habits_df.rename(columns = {'school': 'school',\n",
    "                                                              'sex': 'sex',\n",
    "                                                              'age': 'age',\n",
    "                                                              'studytime': 'weekly_study_time',\n",
    "                                                              'failures': 'failure_count',\n",
    "                                                              'schoolsup': 'school_support',\n",
    "                                                              'freetime': 'free_time',\n",
    "                                                              'goout': 'outings',\n",
    "                                                              'Dalc': 'workday_drinking',\n",
    "                                                              'Walc': 'weekend_drinking',\n",
    "                                                              'absences': 'absences'})"
   ]
  },
  {
   "cell_type": "code",
   "execution_count": null,
   "metadata": {},
   "outputs": [],
   "source": []
  }
 ],
 "metadata": {
  "kernelspec": {
   "display_name": "Python 3",
   "language": "python",
   "name": "python3"
  },
  "language_info": {
   "codemirror_mode": {
    "name": "ipython",
    "version": 3
   },
   "file_extension": ".py",
   "mimetype": "text/x-python",
   "name": "python",
   "nbconvert_exporter": "python",
   "pygments_lexer": "ipython3",
   "version": "3.7.6"
  }
 },
 "nbformat": 4,
 "nbformat_minor": 4
}
