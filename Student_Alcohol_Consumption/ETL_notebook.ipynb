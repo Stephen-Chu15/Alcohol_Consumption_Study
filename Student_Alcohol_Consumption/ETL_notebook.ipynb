{
 "cells": [
  {
   "cell_type": "markdown",
   "metadata": {},
   "source": [
    "# Set up"
   ]
  },
  {
   "cell_type": "code",
   "execution_count": 1,
   "metadata": {},
   "outputs": [],
   "source": [
    "# Import Dependencies\n",
    "import pandas as pd\n",
    "from sqlalchemy import create_engine"
   ]
  },
  {
   "cell_type": "code",
   "execution_count": 2,
   "metadata": {},
   "outputs": [],
   "source": [
    "# Read in CSV files\n",
    "port_file = \"../Resources/student-por.csv\"\n",
    "port_db = pd.read_csv(port_file)\n",
    "\n",
    "math_file = \"../Resources/student-mat.csv\"\n",
    "math_db = pd.read_csv(math_file)"
   ]
  },
  {
   "cell_type": "markdown",
   "metadata": {},
   "source": [
    "# Math Students"
   ]
  },
  {
   "cell_type": "code",
   "execution_count": 3,
   "metadata": {},
   "outputs": [],
   "source": [
    "# Find specific columns that relate to how alcohol consumption affects study performance in math students\n",
    "math_study_habits_columns = ['school','sex', 'age','studytime','failures','schoolsup','freetime','goout','Dalc','Walc','absences']\n",
    "\n",
    "# Copy columns needed to insert into new dataframe\n",
    "math_study_habits_df = math_db[math_study_habits_columns].copy()\n",
    "\n",
    "# Rename columns\n",
    "math_study_habits_df = math_study_habits_df.rename(columns = {'school': 'school',\n",
    "                                                              'sex': 'sex',\n",
    "                                                              'age': 'age',\n",
    "                                                              'studytime': 'weekly_study_time',\n",
    "                                                              'failures': 'failure_count',\n",
    "                                                              'schoolsup': 'school_support',\n",
    "                                                              'freetime': 'free_time',\n",
    "                                                              'goout': 'outings',\n",
    "                                                              'Dalc': 'workday_drinking',\n",
    "                                                              'Walc': 'weekend_drinking',\n",
    "                                                              'absences': 'absences'})"
   ]
  },
  {
   "cell_type": "code",
   "execution_count": 4,
   "metadata": {},
   "outputs": [],
   "source": [
    "# Drop any NaN values that may be in the dataset that we cannot work with\n",
    "math_study_habits_df.dropna(how = 'any', inplace = True)\n",
    "\n",
    "# Check to make sure that all the data types are correct\n",
    "math_study_habits_df.dtypes\n",
    "\n",
    "# Noticed that school support column was filled with yes and no but remained as a string converted to true and false boolean type\n",
    "math_study_habits_df['school_support'] = math_study_habits_df['school_support'].map( {'yes':True ,'no':False}) \n",
    "math_study_habits_df['school_support'] = math_study_habits_df['school_support'].astype('bool')\n",
    "  \n",
    "# Separate data using a filter on sex for the math students\n",
    "math_female_study_habits = (math_study_habits_df.loc[math_study_habits_df['sex'] == 'F',:])\n",
    "math_male_study_habits = (math_study_habits_df.loc[math_study_habits_df['sex'] == 'M',:])\n",
    "\n",
    "# Separate data using a filter on school for math students\n",
    "math_GP_study_habits = (math_study_habits_df.loc[math_study_habits_df['school'] == 'GP',:])\n",
    "math_MS_study_habits = (math_study_habits_df.loc[math_study_habits_df['school'] == 'MS',:])"
   ]
  },
  {
   "cell_type": "markdown",
   "metadata": {},
   "source": [
    "# Portuguese Students\n"
   ]
  },
  {
   "cell_type": "code",
   "execution_count": 5,
   "metadata": {},
   "outputs": [],
   "source": [
    "# Find specific columns that relate to how alcohol consumption affects study performance in language studies students\n",
    "port_study_habits_columns = ['school','sex', 'age','studytime','failures','schoolsup','freetime','goout','Dalc','Walc','absences']\n",
    "\n",
    "# Copy columns needed to insert into new dataframe\n",
    "port_study_habits_df = port_db[port_study_habits_columns].copy()\n",
    "\n",
    "# Rename columns\n",
    "port_study_habits_df = port_study_habits_df.rename(columns = {'school': 'school',\n",
    "                                                              'sex': 'sex',\n",
    "                                                              'age': 'age',\n",
    "                                                              'studytime': 'weekly_study_time',\n",
    "                                                              'failures': 'failure_count',\n",
    "                                                              'schoolsup': 'school_support',\n",
    "                                                              'freetime': 'free_time',\n",
    "                                                              'goout': 'outings',\n",
    "                                                              'Dalc': 'workday_drinking',\n",
    "                                                              'Walc': 'weekend_drinking',\n",
    "                                                              'absences': 'absences'})\n"
   ]
  },
  {
   "cell_type": "code",
   "execution_count": 6,
   "metadata": {},
   "outputs": [],
   "source": [
    "# Drop any NaN values that may be in the dataset that we cannot work with\n",
    "port_study_habits_df.dropna(how = 'any', inplace = True)\n",
    "\n",
    "# Check to make sure that all the data types are correct\n",
    "port_study_habits_df.dtypes\n",
    "\n",
    "# Noticed that school support column was filled with yes and no but remained as a string converted to true and false boolean type\n",
    "port_study_habits_df['school_support'] = port_study_habits_df['school_support'].map({'yes':True ,'no':False}) \n",
    "port_study_habits_df['school_support'] = port_study_habits_df['school_support'].astype('bool')\n",
    "\n",
    "# Separate data using a filter on sex for the language studies students\n",
    "port_female_study_habits = (port_study_habits_df.loc[port_study_habits_df['sex'] == 'F',:])\n",
    "port_male_study_habits = (port_study_habits_df.loc[port_study_habits_df['sex'] == 'M',:])\n",
    "\n",
    "# Separate data using a filter on school for the language studies students\n",
    "port_GP_study_habits = (port_study_habits_df.loc[port_study_habits_df['school'] == 'GP',:])\n",
    "port_MS_study_habits = (port_study_habits_df.loc[port_study_habits_df['school'] == 'MS',:])"
   ]
  },
  {
   "cell_type": "markdown",
   "metadata": {},
   "source": [
    "# Joins"
   ]
  },
  {
   "cell_type": "code",
   "execution_count": 7,
   "metadata": {},
   "outputs": [],
   "source": [
    "# Preform an outer join in order to find data on which sex's studies were affected more by alcohol consumption\n",
    "female_study_habits = pd.merge(port_female_study_habits, math_female_study_habits, how = 'outer')\n",
    "male_study_habits = pd.merge(port_male_study_habits, math_male_study_habits, how = 'outer')\n",
    "\n",
    "# Preform an outer join to find the how the schools performances were affected by alcohol consumption \n",
    "GP_study_habits = pd.merge(port_GP_study_habits, math_GP_study_habits, how = 'outer')\n",
    "MS_study_habits = pd.merge(port_MS_study_habits, math_MS_study_habits, how = 'outer')"
   ]
  },
  {
   "cell_type": "code",
   "execution_count": null,
   "metadata": {},
   "outputs": [],
   "source": []
  }
 ],
 "metadata": {
  "kernelspec": {
   "display_name": "Python 3",
   "language": "python",
   "name": "python3"
  },
  "language_info": {
   "codemirror_mode": {
    "name": "ipython",
    "version": 3
   },
   "file_extension": ".py",
   "mimetype": "text/x-python",
   "name": "python",
   "nbconvert_exporter": "python",
   "pygments_lexer": "ipython3",
   "version": "3.7.6"
  }
 },
 "nbformat": 4,
 "nbformat_minor": 4
}
